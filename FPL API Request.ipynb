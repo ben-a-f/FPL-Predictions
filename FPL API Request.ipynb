{
 "cells": [
  {
   "cell_type": "markdown",
   "id": "67f0d3e2",
   "metadata": {},
   "source": [
    "# FPL API Request\n",
    "\n",
    "This script requests all player histories from the FPL API, and saves the result as a BigQuery dataset. \n"
   ]
  },
  {
   "cell_type": "code",
   "execution_count": null,
   "id": "4af23fc4",
   "metadata": {},
   "outputs": [
    {
     "name": "stdout",
     "output_type": "stream",
     "text": [
      "Requirement already satisfied: google-cloud-bigquery in /opt/conda/lib/python3.7/site-packages (3.11.0)\n",
      "Requirement already satisfied: grpcio<2.0dev,>=1.47.0 in /opt/conda/lib/python3.7/site-packages (from google-cloud-bigquery) (1.51.3)\n",
      "Requirement already satisfied: google-api-core[grpc]!=2.0.*,!=2.1.*,!=2.2.*,!=2.3.0,<3.0.0dev,>=1.31.5 in /opt/conda/lib/python3.7/site-packages (from google-cloud-bigquery) (1.34.0)\n",
      "Requirement already satisfied: proto-plus<2.0.0dev,>=1.15.0 in /opt/conda/lib/python3.7/site-packages (from google-cloud-bigquery) (1.22.2)\n",
      "Requirement already satisfied: google-cloud-core<3.0.0dev,>=1.6.0 in /opt/conda/lib/python3.7/site-packages (from google-cloud-bigquery) (2.3.2)\n",
      "Requirement already satisfied: google-resumable-media<3.0dev,>=0.6.0 in /opt/conda/lib/python3.7/site-packages (from google-cloud-bigquery) (2.5.0)\n",
      "Requirement already satisfied: packaging>=20.0.0 in /opt/conda/lib/python3.7/site-packages (from google-cloud-bigquery) (23.1)\n",
      "Requirement already satisfied: protobuf!=3.20.0,!=3.20.1,!=4.21.0,!=4.21.1,!=4.21.2,!=4.21.3,!=4.21.4,!=4.21.5,<5.0.0dev,>=3.19.5 in /opt/conda/lib/python3.7/site-packages (from google-cloud-bigquery) (3.20.3)\n",
      "Requirement already satisfied: python-dateutil<3.0dev,>=2.7.2 in /opt/conda/lib/python3.7/site-packages (from google-cloud-bigquery) (2.8.2)\n",
      "Requirement already satisfied: requests<3.0.0dev,>=2.21.0 in /opt/conda/lib/python3.7/site-packages (from google-cloud-bigquery) (2.31.0)\n",
      "Requirement already satisfied: googleapis-common-protos<2.0dev,>=1.56.2 in /opt/conda/lib/python3.7/site-packages (from google-api-core[grpc]!=2.0.*,!=2.1.*,!=2.2.*,!=2.3.0,<3.0.0dev,>=1.31.5->google-cloud-bigquery) (1.59.0)\n",
      "Requirement already satisfied: google-auth<3.0dev,>=1.25.0 in /opt/conda/lib/python3.7/site-packages (from google-api-core[grpc]!=2.0.*,!=2.1.*,!=2.2.*,!=2.3.0,<3.0.0dev,>=1.31.5->google-cloud-bigquery) (2.19.1)\n",
      "Requirement already satisfied: grpcio-status<2.0dev,>=1.33.2 in /opt/conda/lib/python3.7/site-packages (from google-api-core[grpc]!=2.0.*,!=2.1.*,!=2.2.*,!=2.3.0,<3.0.0dev,>=1.31.5->google-cloud-bigquery) (1.48.2)\n",
      "Requirement already satisfied: google-crc32c<2.0dev,>=1.0 in /opt/conda/lib/python3.7/site-packages (from google-resumable-media<3.0dev,>=0.6.0->google-cloud-bigquery) (1.5.0)\n",
      "Requirement already satisfied: six>=1.5 in /opt/conda/lib/python3.7/site-packages (from python-dateutil<3.0dev,>=2.7.2->google-cloud-bigquery) (1.16.0)\n",
      "Requirement already satisfied: charset-normalizer<4,>=2 in /opt/conda/lib/python3.7/site-packages (from requests<3.0.0dev,>=2.21.0->google-cloud-bigquery) (3.1.0)\n",
      "Requirement already satisfied: idna<4,>=2.5 in /opt/conda/lib/python3.7/site-packages (from requests<3.0.0dev,>=2.21.0->google-cloud-bigquery) (3.4)\n",
      "Requirement already satisfied: urllib3<3,>=1.21.1 in /opt/conda/lib/python3.7/site-packages (from requests<3.0.0dev,>=2.21.0->google-cloud-bigquery) (1.26.16)\n",
      "Requirement already satisfied: certifi>=2017.4.17 in /opt/conda/lib/python3.7/site-packages (from requests<3.0.0dev,>=2.21.0->google-cloud-bigquery) (2023.5.7)\n",
      "Requirement already satisfied: cachetools<6.0,>=2.0.0 in /opt/conda/lib/python3.7/site-packages (from google-auth<3.0dev,>=1.25.0->google-api-core[grpc]!=2.0.*,!=2.1.*,!=2.2.*,!=2.3.0,<3.0.0dev,>=1.31.5->google-cloud-bigquery) (5.3.1)\n",
      "Requirement already satisfied: pyasn1-modules>=0.2.1 in /opt/conda/lib/python3.7/site-packages (from google-auth<3.0dev,>=1.25.0->google-api-core[grpc]!=2.0.*,!=2.1.*,!=2.2.*,!=2.3.0,<3.0.0dev,>=1.31.5->google-cloud-bigquery) (0.3.0)\n",
      "Requirement already satisfied: rsa<5,>=3.1.4 in /opt/conda/lib/python3.7/site-packages (from google-auth<3.0dev,>=1.25.0->google-api-core[grpc]!=2.0.*,!=2.1.*,!=2.2.*,!=2.3.0,<3.0.0dev,>=1.31.5->google-cloud-bigquery) (4.9)\n",
      "Requirement already satisfied: pyasn1<0.6.0,>=0.4.6 in /opt/conda/lib/python3.7/site-packages (from pyasn1-modules>=0.2.1->google-auth<3.0dev,>=1.25.0->google-api-core[grpc]!=2.0.*,!=2.1.*,!=2.2.*,!=2.3.0,<3.0.0dev,>=1.31.5->google-cloud-bigquery) (0.5.0)\n"
     ]
    }
   ],
   "source": [
    "!pip install google-cloud-bigquery\n",
    "\n",
    "import requests\n",
    "import pandas as pd\n",
    "from google.cloud import bigquery\n",
    "from google.oauth2 import service_account\n"
   ]
  },
  {
   "cell_type": "markdown",
   "id": "129e7ef5",
   "metadata": {},
   "source": [
    "With the libraries we've installed and loaded, we can request the data we want from the FPL API."
   ]
  },
  {
   "cell_type": "code",
   "execution_count": null,
   "id": "de3bfabe",
   "metadata": {},
   "outputs": [],
   "source": [
    "# Get all player IDs.\n",
    "players_url = \"https://fantasy.premierleague.com/api/bootstrap-static/\"\n",
    "response = requests.get(players_url)\n",
    "data = response.json()\n",
    "players = pd.DataFrame(data[\"elements\"])\n",
    "\n",
    "positions = players[[\"code\", \"element_type\"]]\n",
    "\n",
    "# Request historic data for each player.\n",
    "for element_id in players[\"id\"].unique():\n",
    "    url = f'https://fantasy.premierleague.com/api/element-summary/{element_id}/'\n",
    "    r = requests.get(url)\n",
    "    r = r.json()\n",
    "    player_history = pd.DataFrame(r['history_past'])\n",
    "    if element_id == players[\"id\"].unique()[0]:\n",
    "        all_history = player_history\n",
    "    else:\n",
    "        all_history = pd.concat([all_history, player_history])\n",
    "        \n",
    "# Reformat dataframes as list of dictionaries so BQ can read it.\n",
    "all_history_dict = all_history.to_dict('records')\n",
    "positions_dict = positions.to_dict('records')\n"
   ]
  },
  {
   "cell_type": "markdown",
   "id": "f0f1fe41",
   "metadata": {},
   "source": [
    "Now let's set up a BigQuery table to hold the data, and allow us to process it easily."
   ]
  },
  {
   "cell_type": "code",
   "execution_count": null,
   "id": "2696cf81",
   "metadata": {},
   "outputs": [],
   "source": [
    "# Set up BigQuery client using service account credentials.\n",
    "credentials = service_account.Credentials.from_service_account_file(\n",
    "    \"bf-fpl-pred-080723-72e03a26c091.json\",\n",
    "    scopes=[\"https://www.googleapis.com/auth/cloud-platform\"],\n",
    ")\n",
    "\n",
    "client = bigquery.Client(\n",
    "    credentials=credentials,\n",
    "    project=credentials.project_id,\n",
    ")"
   ]
  },
  {
   "cell_type": "code",
   "execution_count": null,
   "id": "727c834e-20f6-4c8e-8d68-9374a58c58c4",
   "metadata": {},
   "outputs": [],
   "source": [
    "# Create the table if it doesn't exist.\n",
    "schema_historic = [\n",
    "    bigquery.SchemaField('season_name', 'STRING'),\n",
    "    bigquery.SchemaField('element_code', 'INTEGER'),\n",
    "    bigquery.SchemaField('start_cost', 'INTEGER'),\n",
    "    bigquery.SchemaField('end_cost', 'INTEGER'),\n",
    "    bigquery.SchemaField('total_points', 'INTEGER'),\n",
    "    bigquery.SchemaField('minutes', 'INTEGER'),\n",
    "    bigquery.SchemaField('goals_scored', 'INTEGER'),\n",
    "    bigquery.SchemaField('assists', 'INTEGER'),\n",
    "    bigquery.SchemaField('clean_sheets', 'INTEGER'),\n",
    "    bigquery.SchemaField('goals_conceded', 'INTEGER'),\n",
    "    bigquery.SchemaField('own_goals', 'INTEGER'),\n",
    "    bigquery.SchemaField('penalties_saved', 'INTEGER'),\n",
    "    bigquery.SchemaField('penalties_missed', 'INTEGER'),\n",
    "    bigquery.SchemaField('yellow_cards', 'INTEGER'),\n",
    "    bigquery.SchemaField('red_cards', 'INTEGER'),\n",
    "    bigquery.SchemaField('saves', 'INTEGER'),\n",
    "    bigquery.SchemaField('bonus', 'INTEGER'),\n",
    "    bigquery.SchemaField('bps', 'INTEGER'),\n",
    "    bigquery.SchemaField('influence', 'FLOAT'),\n",
    "    bigquery.SchemaField('creativity', 'FLOAT'),\n",
    "    bigquery.SchemaField('threat', 'FLOAT'),\n",
    "    bigquery.SchemaField('ict_index', 'FLOAT'),\n",
    "    bigquery.SchemaField('starts', 'INTEGER'),\n",
    "    bigquery.SchemaField('expected_goals', 'FLOAT'),\n",
    "    bigquery.SchemaField('expected_assists', 'FLOAT'),\n",
    "    bigquery.SchemaField('expected_goal_involvements', 'FLOAT'),\n",
    "    bigquery.SchemaField('expected_goals_conceded', 'FLOAT'),\n",
    "    bigquery.SchemaField('id', 'INTEGER')\n",
    "]\n",
    "\n",
    "schema_positions = [\n",
    "    bigquery.SchemaField('code', 'INTEGER'),\n",
    "    bigquery.SchemaField('element_type', 'INTEGER')\n",
    "]\n",
    "\n",
    "dataset_id = \"fpl_historic_data\"\n",
    "# Create historic data table.\n",
    "table_id_historic = \"raw_historic_data\"\n",
    "dataset_ref = client.dataset(dataset_id)\n",
    "table_ref_historic = dataset_ref.table(table_id_historic)\n",
    "table_historic = bigquery.Table(table_ref_historic, schema=schema_historic)\n",
    "table_historic = client.create_table(table_historic, exists_ok=True)\n",
    "\n",
    "# Create positions table.\n",
    "table_id_positions = \"player_positions\"\n",
    "table_ref_positions = dataset_ref.table(table_id_positions)\n",
    "table_positions = bigquery.Table(table_ref_positions, schema=schema_positions)\n",
    "table_positions = client.create_table(table_historic, exists_ok=True)\n",
    "\n"
   ]
  },
  {
   "cell_type": "code",
   "execution_count": null,
   "id": "f93b6458",
   "metadata": {},
   "outputs": [
    {
     "name": "stdout",
     "output_type": "stream",
     "text": [
      "Data uploaded to BigQuery table raw_historic_data in dataset fpl_historic_data\n",
      "Data uploaded to BigQuery table player_positions in dataset fpl_historic_data\n"
     ]
    }
   ],
   "source": [
    "# Insert data into the table, overwriting any existing data.\n",
    "job_config = bigquery.LoadJobConfig()\n",
    "job_config.write_disposition = bigquery.WriteDisposition.WRITE_TRUNCATE \n",
    "job = client.load_table_from_json(all_history_dict, table_ref_historic, job_config=job_config)\n",
    "job.result()\n",
    "\n",
    "print(f'Data uploaded to BigQuery table {table_id_historic} in dataset {dataset_id}')\n",
    "\n",
    "job = client.load_table_from_json(positions_dict, table_ref_positions, job_config=job_config)\n",
    "job.result()\n",
    "\n",
    "print(f'Data uploaded to BigQuery table {table_id_positions} in dataset {dataset_id}')"
   ]
  }
 ],
 "metadata": {
  "kernelspec": {
   "display_name": "Python (Local)",
   "language": "python",
   "name": "local-base"
  },
  "language_info": {
   "codemirror_mode": {
    "name": "ipython",
    "version": 3
   },
   "file_extension": ".py",
   "mimetype": "text/x-python",
   "name": "python",
   "nbconvert_exporter": "python",
   "pygments_lexer": "ipython3",
   "version": "3.7.12"
  }
 },
 "nbformat": 4,
 "nbformat_minor": 5
}
