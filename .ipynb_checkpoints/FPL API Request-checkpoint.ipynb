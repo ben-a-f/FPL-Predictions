{
 "cells": [
  {
   "cell_type": "markdown",
   "id": "67f0d3e2",
   "metadata": {},
   "source": [
    "# FPL API Request\n",
    "\n",
    "This script requests all player histories from the FPL API, and saves the result as a BigQuery dataset. \n"
   ]
  },
  {
   "cell_type": "code",
   "execution_count": null,
   "id": "4af23fc4",
   "metadata": {},
   "outputs": [],
   "source": [
    "!pip install google-cloud-bigquery\n",
    "\n",
    "import requests\n",
    "import pandas as pd\n",
    "from google.cloud import bigquery"
   ]
  },
  {
   "cell_type": "markdown",
   "id": "129e7ef5",
   "metadata": {},
   "source": [
    "With the libraries we've installed and loaded, we can request the data we want from the FPL API."
   ]
  },
  {
   "cell_type": "code",
   "execution_count": 1,
   "id": "de3bfabe",
   "metadata": {},
   "outputs": [
    {
     "ename": "NameError",
     "evalue": "name 'requests' is not defined",
     "output_type": "error",
     "traceback": [
      "\u001b[1;31m---------------------------------------------------------------------------\u001b[0m",
      "\u001b[1;31mNameError\u001b[0m                                 Traceback (most recent call last)",
      "Cell \u001b[1;32mIn[1], line 3\u001b[0m\n\u001b[0;32m      1\u001b[0m \u001b[38;5;66;03m# Get all player IDs.\u001b[39;00m\n\u001b[0;32m      2\u001b[0m players_url \u001b[38;5;241m=\u001b[39m \u001b[38;5;124m\"\u001b[39m\u001b[38;5;124mhttps://fantasy.premierleague.com/api/bootstrap-static/\u001b[39m\u001b[38;5;124m\"\u001b[39m\n\u001b[1;32m----> 3\u001b[0m response \u001b[38;5;241m=\u001b[39m \u001b[43mrequests\u001b[49m\u001b[38;5;241m.\u001b[39mget(players_url)\n\u001b[0;32m      4\u001b[0m data \u001b[38;5;241m=\u001b[39m response\u001b[38;5;241m.\u001b[39mjson()\n\u001b[0;32m      5\u001b[0m players \u001b[38;5;241m=\u001b[39m pd\u001b[38;5;241m.\u001b[39mDataFrame(data[\u001b[38;5;124m\"\u001b[39m\u001b[38;5;124melements\u001b[39m\u001b[38;5;124m\"\u001b[39m])\n",
      "\u001b[1;31mNameError\u001b[0m: name 'requests' is not defined"
     ]
    }
   ],
   "source": [
    "# Get all player IDs.\n",
    "players_url = \"https://fantasy.premierleague.com/api/bootstrap-static/\"\n",
    "response = requests.get(players_url)\n",
    "data = response.json()\n",
    "players = pd.DataFrame(data[\"elements\"])\n",
    "\n",
    "# Request historic data for each player.\n",
    "for element_id in players['id']:\n",
    "    url = f'https://fantasy.premierleague.com/api/element-summary/{element_id}/'\n",
    "    r = requests.get(url)\n",
    "    r = r.json()\n",
    "    player_history = pd.DataFrame(r['history_past'])\n",
    "    player_history['id'] = element_id\n",
    "    if element_id == players['id'][0]:\n",
    "        all_history = player_history\n",
    "    else:\n",
    "        all_history = pd.concat([all_history, player_history])"
   ]
  },
  {
   "cell_type": "markdown",
   "id": "f0f1fe41",
   "metadata": {},
   "source": [
    "Now let's set up a BigQuery table to hold the data, and allow us to process it easily."
   ]
  },
  {
   "cell_type": "code",
   "execution_count": null,
   "id": "2696cf81",
   "metadata": {},
   "outputs": [],
   "source": [
    "# Set up BigQuery client using service account credentials and API key\n",
    "credentials = bigquery.Credentials.from_service_account_file(\n",
    "    'path/to/service_account_key.json',\n",
    "    project='your-project-id',\n",
    ")\n",
    "client = bigquery.Client(credentials=credentials)\n",
    "\n",
    "# Define dataset and table information\n",
    "dataset_id = 'your-dataset-id'\n",
    "table_id = 'your-table-id'\n",
    "\n",
    "# Create the dataset if it doesn't exist\n",
    "dataset_ref = client.dataset(dataset_id)\n",
    "dataset = bigquery.Dataset(dataset_ref)\n",
    "dataset.location = 'your-dataset-location'  # e.g., \"US\" or \"EU\"\n",
    "dataset = client.create_dataset(dataset, exists_ok=True)\n",
    "\n",
    "# Define the schema of the table\n",
    "schema = [\n",
    "    bigquery.SchemaField('column1', 'STRING'),\n",
    "    bigquery.SchemaField('column2', 'INTEGER'),\n",
    "    # Add more fields as needed\n",
    "]\n",
    "\n",
    "# Create the table if it doesn't exist\n",
    "table_ref = dataset_ref.table(table_id)\n",
    "table = bigquery.Table(table_ref, schema=schema)\n",
    "table = client.create_table(table, exists_ok=True)\n",
    "\n",
    "# Read data into a Pandas dataframe (replace with your own data retrieval logic)\n",
    "data = pd.DataFrame({\n",
    "    'column1': ['value1', 'value2'],\n",
    "    'column2': [1, 2]\n",
    "    # Add more columns and data as needed\n",
    "})\n",
    "\n",
    "# Convert dataframe to a list of dictionaries for inserting into BigQuery\n",
    "data_dict = data.to_dict('records')\n",
    "\n",
    "# Insert data into the table\n",
    "job_config = bigquery.LoadJobConfig()\n",
    "job_config.write_disposition = bigquery.WriteDisposition.WRITE_TRUNCATE  # Overwrite existing data\n",
    "job = client.load_table_from_json(data_dict, table_ref, job_config=job_config)\n",
    "job.result()  # Wait for the job to complete\n",
    "\n",
    "print(f'Data uploaded to BigQuery table {table_id} in dataset {dataset_id}')"
   ]
  }
 ],
 "metadata": {
  "kernelspec": {
   "display_name": "Python 3 (ipykernel)",
   "language": "python",
   "name": "python3"
  },
  "language_info": {
   "codemirror_mode": {
    "name": "ipython",
    "version": 3
   },
   "file_extension": ".py",
   "mimetype": "text/x-python",
   "name": "python",
   "nbconvert_exporter": "python",
   "pygments_lexer": "ipython3",
   "version": "3.9.16"
  }
 },
 "nbformat": 4,
 "nbformat_minor": 5
}
