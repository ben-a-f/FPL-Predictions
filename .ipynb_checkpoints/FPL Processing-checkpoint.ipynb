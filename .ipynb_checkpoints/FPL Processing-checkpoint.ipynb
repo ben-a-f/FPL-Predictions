{
 "cells": [
  {
   "cell_type": "markdown",
   "id": "43598f65-54fe-4a5e-adb6-7e307d162d03",
   "metadata": {},
   "source": [
    "# FPL Data Processing\n",
    "Here we use BigQuery to process the raw data obtained from the API."
   ]
  },
  {
   "cell_type": "code",
   "execution_count": 1,
   "id": "4f958e99-4d7d-4260-afbf-24d75e9242a1",
   "metadata": {},
   "outputs": [
    {
     "name": "stdout",
     "output_type": "stream",
     "text": [
      "Requirement already satisfied: google-cloud-storage in /opt/conda/lib/python3.7/site-packages (2.9.0)\n",
      "Requirement already satisfied: google-auth<3.0dev,>=1.25.0 in /opt/conda/lib/python3.7/site-packages (from google-cloud-storage) (2.19.1)\n",
      "Requirement already satisfied: google-api-core!=2.0.*,!=2.1.*,!=2.2.*,!=2.3.0,<3.0.0dev,>=1.31.5 in /opt/conda/lib/python3.7/site-packages (from google-cloud-storage) (1.34.0)\n",
      "Requirement already satisfied: google-cloud-core<3.0dev,>=2.3.0 in /opt/conda/lib/python3.7/site-packages (from google-cloud-storage) (2.3.2)\n",
      "Requirement already satisfied: google-resumable-media>=2.3.2 in /opt/conda/lib/python3.7/site-packages (from google-cloud-storage) (2.5.0)\n",
      "Requirement already satisfied: requests<3.0.0dev,>=2.18.0 in /opt/conda/lib/python3.7/site-packages (from google-cloud-storage) (2.31.0)\n",
      "Requirement already satisfied: googleapis-common-protos<2.0dev,>=1.56.2 in /opt/conda/lib/python3.7/site-packages (from google-api-core!=2.0.*,!=2.1.*,!=2.2.*,!=2.3.0,<3.0.0dev,>=1.31.5->google-cloud-storage) (1.59.0)\n",
      "Requirement already satisfied: protobuf!=3.20.0,!=3.20.1,!=4.21.0,!=4.21.1,!=4.21.2,!=4.21.3,!=4.21.4,!=4.21.5,<4.0.0dev,>=3.19.5 in /opt/conda/lib/python3.7/site-packages (from google-api-core!=2.0.*,!=2.1.*,!=2.2.*,!=2.3.0,<3.0.0dev,>=1.31.5->google-cloud-storage) (3.20.3)\n",
      "Requirement already satisfied: cachetools<6.0,>=2.0.0 in /opt/conda/lib/python3.7/site-packages (from google-auth<3.0dev,>=1.25.0->google-cloud-storage) (5.3.1)\n",
      "Requirement already satisfied: pyasn1-modules>=0.2.1 in /opt/conda/lib/python3.7/site-packages (from google-auth<3.0dev,>=1.25.0->google-cloud-storage) (0.3.0)\n",
      "Requirement already satisfied: rsa<5,>=3.1.4 in /opt/conda/lib/python3.7/site-packages (from google-auth<3.0dev,>=1.25.0->google-cloud-storage) (4.9)\n",
      "Requirement already satisfied: six>=1.9.0 in /opt/conda/lib/python3.7/site-packages (from google-auth<3.0dev,>=1.25.0->google-cloud-storage) (1.16.0)\n",
      "Requirement already satisfied: urllib3<2.0 in /opt/conda/lib/python3.7/site-packages (from google-auth<3.0dev,>=1.25.0->google-cloud-storage) (1.26.16)\n",
      "Requirement already satisfied: google-crc32c<2.0dev,>=1.0 in /opt/conda/lib/python3.7/site-packages (from google-resumable-media>=2.3.2->google-cloud-storage) (1.5.0)\n",
      "Requirement already satisfied: charset-normalizer<4,>=2 in /opt/conda/lib/python3.7/site-packages (from requests<3.0.0dev,>=2.18.0->google-cloud-storage) (3.1.0)\n",
      "Requirement already satisfied: idna<4,>=2.5 in /opt/conda/lib/python3.7/site-packages (from requests<3.0.0dev,>=2.18.0->google-cloud-storage) (3.4)\n",
      "Requirement already satisfied: certifi>=2017.4.17 in /opt/conda/lib/python3.7/site-packages (from requests<3.0.0dev,>=2.18.0->google-cloud-storage) (2023.5.7)\n",
      "Requirement already satisfied: pyasn1<0.6.0,>=0.4.6 in /opt/conda/lib/python3.7/site-packages (from pyasn1-modules>=0.2.1->google-auth<3.0dev,>=1.25.0->google-cloud-storage) (0.5.0)\n"
     ]
    }
   ],
   "source": [
    "!pip install google-cloud-storage"
   ]
  },
  {
   "cell_type": "code",
   "execution_count": 2,
   "id": "bcd9e290-d2fa-4017-8aad-c5e1f3200c5f",
   "metadata": {},
   "outputs": [],
   "source": [
    "from google.cloud import bigquery\n",
    "from google.cloud import storage"
   ]
  },
  {
   "cell_type": "markdown",
   "id": "f9c53b03-c034-427f-a243-0d02b38cfa64",
   "metadata": {},
   "source": [
    "Set environment variables including project name, bucket name and region. Also set an output directory in which we will hold the data while we work with it outside BigQuery."
   ]
  },
  {
   "cell_type": "code",
   "execution_count": 3,
   "id": "6c445668-941d-42b5-839e-45a79e1931ce",
   "metadata": {},
   "outputs": [
    {
     "name": "stdout",
     "output_type": "stream",
     "text": [
      "env: PROJECT=bf-fpl-pred-080723\n",
      "env: BUCKET=bf-fpl-pred-080723\n",
      "env: REGION=europe-west1\n",
      "env: OUTDIR=gs://bf-fpl-pred-080723/fpl/data\n",
      "env: TFVERSION=2.8\n"
     ]
    }
   ],
   "source": [
    "PROJECT = !gcloud config get-value project\n",
    "PROJECT = PROJECT[0]\n",
    "BUCKET = PROJECT\n",
    "REGION = \"europe-west1\"\n",
    "\n",
    "OUTDIR = f\"gs://{BUCKET}/fpl/data\"\n",
    "\n",
    "%env PROJECT=$PROJECT\n",
    "%env BUCKET=$BUCKET\n",
    "%env REGION=$REGION\n",
    "%env OUTDIR=$OUTDIR\n",
    "%env TFVERSION=2.8"
   ]
  },
  {
   "cell_type": "code",
   "execution_count": 4,
   "id": "58da78fc-3bae-4c14-92ad-23cbbab97a32",
   "metadata": {},
   "outputs": [
    {
     "name": "stderr",
     "output_type": "stream",
     "text": [
      "Updated property [core/project].\n",
      "Updated property [ai/region].\n"
     ]
    }
   ],
   "source": [
    "%%bash\n",
    "gcloud config set project $PROJECT\n",
    "gcloud config set ai/region $REGION"
   ]
  },
  {
   "cell_type": "markdown",
   "id": "7f0d9ad3-5954-45a8-a4e7-9a2bea5d29d0",
   "metadata": {},
   "source": [
    "Process the data before separating it by role."
   ]
  },
  {
   "cell_type": "code",
   "execution_count": 5,
   "id": "56b96f0d-23b1-4eb8-a5b8-6444a2944f85",
   "metadata": {},
   "outputs": [
    {
     "data": {
      "application/vnd.jupyter.widget-view+json": {
       "model_id": "30696bb35752463d9c19daf74e77509c",
       "version_major": 2,
       "version_minor": 0
      },
      "text/plain": [
       "Query is running:   0%|          |"
      ]
     },
     "metadata": {},
     "output_type": "display_data"
    },
    {
     "data": {
      "text/html": [
       "<div>\n",
       "<style scoped>\n",
       "    .dataframe tbody tr th:only-of-type {\n",
       "        vertical-align: middle;\n",
       "    }\n",
       "\n",
       "    .dataframe tbody tr th {\n",
       "        vertical-align: top;\n",
       "    }\n",
       "\n",
       "    .dataframe thead th {\n",
       "        text-align: right;\n",
       "    }\n",
       "</style>\n",
       "<table border=\"1\" class=\"dataframe\">\n",
       "  <thead>\n",
       "    <tr style=\"text-align: right;\">\n",
       "      <th></th>\n",
       "    </tr>\n",
       "  </thead>\n",
       "  <tbody>\n",
       "  </tbody>\n",
       "</table>\n",
       "</div>"
      ],
      "text/plain": [
       "Empty DataFrame\n",
       "Columns: []\n",
       "Index: []"
      ]
     },
     "execution_count": 5,
     "metadata": {},
     "output_type": "execute_result"
    }
   ],
   "source": [
    "%%bigquery\n",
    "\n",
    "CREATE OR REPLACE TABLE fpl_historic_data.processed_data\n",
    "AS\n",
    "SELECT *,\n",
    "CONCAT(CAST(element_code AS STRING), '_', CAST(season_name AS STRING)) AS hash_id,\n",
    "  CASE\n",
    "    WHEN yellow_cards >= 10 THEN 1\n",
    "    ELSE 0\n",
    "  END AS yellow_threshold\n",
    "FROM (\n",
    "  SELECT t1.*, t2.total_points AS next_season_points, \n",
    "    t1.end_cost - t1.start_cost AS cost_change\n",
    "  FROM fpl_historic_data.raw_historic_data t1\n",
    "  LEFT JOIN fpl_historic_data.raw_historic_data t2 ON t1.element_code = t2.element_code\n",
    "    AND CAST(SUBSTR(t1.season_name, -2) AS INT64) + 1 = CAST(SUBSTR(t2.season_name, -2) AS INT64)\n",
    ") AS subquery"
   ]
  },
  {
   "cell_type": "markdown",
   "id": "ae11bd63-d338-4900-9e84-36604015b2b9",
   "metadata": {},
   "source": [
    "Separate the data by role (GK, DEF, MID, ATK)."
   ]
  },
  {
   "cell_type": "code",
   "execution_count": 6,
   "id": "c0f934e1-525c-4f81-a5d8-32387abc1b9c",
   "metadata": {},
   "outputs": [
    {
     "data": {
      "application/vnd.jupyter.widget-view+json": {
       "model_id": "e7a37579459b48e183618ed3c74504a6",
       "version_major": 2,
       "version_minor": 0
      },
      "text/plain": [
       "Query is running:   0%|          |"
      ]
     },
     "metadata": {},
     "output_type": "display_data"
    },
    {
     "data": {
      "text/html": [
       "<div>\n",
       "<style scoped>\n",
       "    .dataframe tbody tr th:only-of-type {\n",
       "        vertical-align: middle;\n",
       "    }\n",
       "\n",
       "    .dataframe tbody tr th {\n",
       "        vertical-align: top;\n",
       "    }\n",
       "\n",
       "    .dataframe thead th {\n",
       "        text-align: right;\n",
       "    }\n",
       "</style>\n",
       "<table border=\"1\" class=\"dataframe\">\n",
       "  <thead>\n",
       "    <tr style=\"text-align: right;\">\n",
       "      <th></th>\n",
       "    </tr>\n",
       "  </thead>\n",
       "  <tbody>\n",
       "  </tbody>\n",
       "</table>\n",
       "</div>"
      ],
      "text/plain": [
       "Empty DataFrame\n",
       "Columns: []\n",
       "Index: []"
      ]
     },
     "execution_count": 6,
     "metadata": {},
     "output_type": "execute_result"
    }
   ],
   "source": [
    "%%bigquery\n",
    "\n",
    "CREATE OR REPLACE TABLE fpl_historic_data.gk_history\n",
    "AS\n",
    "SELECT \n",
    "h.hash_id, h.element_code, h.season_name, h.next_season_points, h.minutes, h.goals_scored, h.assists, h.clean_sheets, \n",
    "h.saves, h.penalties_saved, h.bps, h.goals_conceded, h.yellow_threshold, h.red_cards, h.own_goals, \n",
    "h.influence, h.creativity, h.threat, h.start_cost, h.end_cost\n",
    "FROM fpl_historic_data.processed_data h\n",
    "LEFT JOIN fpl_historic_data.player_positions p ON h.element_code = p.code\n",
    "WHERE h.minutes > 0 \n",
    "AND h.next_season_points IS NOT NULL \n",
    "AND p.element_type = 1;\n",
    "\n",
    "CREATE OR REPLACE TABLE fpl_historic_data.def_history\n",
    "AS\n",
    "SELECT \n",
    "h.hash_id, h.element_code, h.season_name, h.next_season_points, h.minutes, h.goals_scored, h.assists, h.clean_sheets, \n",
    "h.penalties_missed, h.bps, h.goals_conceded, h.yellow_threshold, h.red_cards, h.own_goals, \n",
    "h.influence, h.creativity, h.threat, h.start_cost, h.end_cost\n",
    "FROM fpl_historic_data.processed_data h\n",
    "LEFT JOIN fpl_historic_data.player_positions p ON h.element_code = p.code\n",
    "WHERE h.minutes > 0 \n",
    "AND h.next_season_points IS NOT NULL \n",
    "AND p.element_type = 2;\n",
    "\n",
    "CREATE OR REPLACE TABLE fpl_historic_data.mid_history\n",
    "AS\n",
    "SELECT \n",
    "h.hash_id, h.element_code, h.season_name, h.next_season_points, h.minutes, h.goals_scored, h.assists, \n",
    "h.clean_sheets, h.penalties_missed, h.bps, h.yellow_threshold, h.red_cards, h.own_goals, \n",
    "h.influence, h.creativity, h.threat, h.start_cost, h.end_cost\n",
    "FROM fpl_historic_data.processed_data h\n",
    "LEFT JOIN fpl_historic_data.player_positions p ON h.element_code = p.code\n",
    "WHERE h.minutes > 0 \n",
    "AND h.next_season_points IS NOT NULL \n",
    "AND p.element_type = 3;\n",
    "\n",
    "CREATE OR REPLACE TABLE fpl_historic_data.fwd_history\n",
    "AS\n",
    "SELECT \n",
    "h.hash_id, h.element_code, h.season_name, h.next_season_points, h.minutes, h.goals_scored, \n",
    "h.assists, h.penalties_missed, h.bps, h.yellow_threshold, h.red_cards, h.own_goals, \n",
    "h.influence, h.creativity, h.threat, h.start_cost, h.end_cost\n",
    "FROM fpl_historic_data.processed_data h\n",
    "LEFT JOIN fpl_historic_data.player_positions p ON h.element_code = p.code\n",
    "WHERE h.minutes > 0 \n",
    "AND h.next_season_points IS NOT NULL \n",
    "AND p.element_type = 4;\n"
   ]
  },
  {
   "cell_type": "markdown",
   "id": "5df6909c-41dd-4cae-91a8-2e6717f46048",
   "metadata": {},
   "source": [
    "Let's start with the midfielders just for testing purposes. First we split into test/train."
   ]
  },
  {
   "cell_type": "code",
   "execution_count": 7,
   "id": "dc8b0fc1-df9d-4bb2-bf87-97afda66dea1",
   "metadata": {},
   "outputs": [
    {
     "data": {
      "application/vnd.jupyter.widget-view+json": {
       "model_id": "3c7e99c2607c4c77b70354b58b6c8b16",
       "version_major": 2,
       "version_minor": 0
      },
      "text/plain": [
       "Query is running:   0%|          |"
      ]
     },
     "metadata": {},
     "output_type": "display_data"
    },
    {
     "data": {
      "text/html": [
       "<div>\n",
       "<style scoped>\n",
       "    .dataframe tbody tr th:only-of-type {\n",
       "        vertical-align: middle;\n",
       "    }\n",
       "\n",
       "    .dataframe tbody tr th {\n",
       "        vertical-align: top;\n",
       "    }\n",
       "\n",
       "    .dataframe thead th {\n",
       "        text-align: right;\n",
       "    }\n",
       "</style>\n",
       "<table border=\"1\" class=\"dataframe\">\n",
       "  <thead>\n",
       "    <tr style=\"text-align: right;\">\n",
       "      <th></th>\n",
       "    </tr>\n",
       "  </thead>\n",
       "  <tbody>\n",
       "  </tbody>\n",
       "</table>\n",
       "</div>"
      ],
      "text/plain": [
       "Empty DataFrame\n",
       "Columns: []\n",
       "Index: []"
      ]
     },
     "execution_count": 7,
     "metadata": {},
     "output_type": "execute_result"
    }
   ],
   "source": [
    "%%bigquery\n",
    "\n",
    "CREATE OR REPLACE TABLE fpl_historic_data.mid_train \n",
    "AS\n",
    "SELECT *\n",
    "FROM `fpl_historic_data.mid_history`\n",
    "WHERE ABS(MOD(FARM_FINGERPRINT(hash_id), 10)) <= 8;\n",
    "\n",
    "CREATE OR REPLACE TABLE fpl_historic_data.mid_test \n",
    "AS\n",
    "SELECT *\n",
    "FROM `fpl_historic_data.mid_history`\n",
    "WHERE ABS(MOD(FARM_FINGERPRINT(hash_id), 10)) > 8;\n",
    "\n"
   ]
  },
  {
   "cell_type": "markdown",
   "id": "66ff4c3a-88b6-4d7f-9bd2-9abd9fa59a30",
   "metadata": {},
   "source": [
    "Then we save in our bucket as .csv files (using the filepath we defined previously) so we can easily access them for modelling."
   ]
  },
  {
   "cell_type": "code",
   "execution_count": 9,
   "id": "3dfcda77-4594-4145-8b05-716fd18dd4b1",
   "metadata": {},
   "outputs": [
    {
     "name": "stdout",
     "output_type": "stream",
     "text": [
      "Deleting current contents of gs://bf-fpl-pred-080723/fpl/data\n",
      "Extracting training data to gs://bf-fpl-pred-080723/fpl/data\n",
      "Extracting validation data to gs://bf-fpl-pred-080723/fpl/data\n",
      "      3760  2023-07-27T14:32:57Z  gs://bf-fpl-pred-080723/fpl/data/mid-test-000000000000.csv\n",
      "     36439  2023-07-27T14:32:53Z  gs://bf-fpl-pred-080723/fpl/data/mid-train-000000000000.csv\n",
      "TOTAL: 2 objects, 40199 bytes (39.26 KiB)\n"
     ]
    },
    {
     "name": "stderr",
     "output_type": "stream",
     "text": [
      "Waiting on bqjob_r4698551e6fd609ae_0000018997c450de_1 ... (0s) Current status: DONE   \n",
      "Waiting on bqjob_r7dca0a42122bd88b_0000018997c45fa4_1 ... (0s) Current status: DONE   \n"
     ]
    }
   ],
   "source": [
    "%%bash\n",
    "\n",
    "echo \"Deleting current contents of $OUTDIR\"\n",
    "gsutil -m -q rm -rf $OUTDIR\n",
    "\n",
    "echo \"Extracting training data to $OUTDIR\"\n",
    "bq --location=europe extract \\\n",
    "   --destination_format CSV  \\\n",
    "   --field_delimiter \",\" --print_header \\\n",
    "   fpl_historic_data.mid_train  \\\n",
    "   $OUTDIR/mid-train-*.csv\n",
    "\n",
    "echo \"Extracting validation data to $OUTDIR\"\n",
    "bq --location=europe extract \\\n",
    "   --destination_format CSV  \\\n",
    "   --field_delimiter \",\" --print_header \\\n",
    "   fpl_historic_data.mid_test  \\\n",
    "   $OUTDIR/mid-test-*.csv\n",
    "\n",
    "gsutil ls -l $OUTDIR"
   ]
  },
  {
   "cell_type": "code",
   "execution_count": null,
   "id": "08d8b7cb-50f7-42f2-b794-b96d5e2538fe",
   "metadata": {},
   "outputs": [],
   "source": []
  }
 ],
 "metadata": {
  "kernelspec": {
   "display_name": "Python (Local)",
   "language": "python",
   "name": "local-base"
  },
  "language_info": {
   "codemirror_mode": {
    "name": "ipython",
    "version": 3
   },
   "file_extension": ".py",
   "mimetype": "text/x-python",
   "name": "python",
   "nbconvert_exporter": "python",
   "pygments_lexer": "ipython3",
   "version": "3.7.12"
  }
 },
 "nbformat": 4,
 "nbformat_minor": 5
}
