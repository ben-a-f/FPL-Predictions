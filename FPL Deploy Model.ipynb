{
 "cells": [
  {
   "cell_type": "markdown",
   "id": "8349b404-3b88-4924-817c-59613e0a288e",
   "metadata": {},
   "source": [
    "# FPL Deploy Model\n",
    "Now we have trained the model, we need to deploy it to serve predictions."
   ]
  },
  {
   "cell_type": "code",
   "execution_count": null,
   "id": "64838204-17c0-49fa-bdfe-5f5d7552dd9a",
   "metadata": {},
   "outputs": [],
   "source": []
  }
 ],
 "metadata": {
  "kernelspec": {
   "display_name": "TensorFlow 2 (Local)",
   "language": "python",
   "name": "local-tf2"
  },
  "language_info": {
   "codemirror_mode": {
    "name": "ipython",
    "version": 3
   },
   "file_extension": ".py",
   "mimetype": "text/x-python",
   "name": "python",
   "nbconvert_exporter": "python",
   "pygments_lexer": "ipython3",
   "version": "3.7.12"
  }
 },
 "nbformat": 4,
 "nbformat_minor": 5
}
