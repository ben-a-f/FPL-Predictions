{
 "cells": [
  {
   "cell_type": "markdown",
   "id": "8349b404-3b88-4924-817c-59613e0a288e",
   "metadata": {},
   "source": [
    "# FPL Deploy Model\n",
    "Now we have trained the model, we need to deploy it to serve predictions.\n",
    "\n",
    "WIP Note: We'll worry about tuning the model later, let's just get it deployed first."
   ]
  },
  {
   "cell_type": "code",
   "execution_count": 1,
   "id": "52695907-7fa1-4523-b907-54081b28a894",
   "metadata": {},
   "outputs": [],
   "source": [
    "import os\n",
    "from google.cloud import aiplatform"
   ]
  },
  {
   "cell_type": "code",
   "execution_count": 2,
   "id": "64838204-17c0-49fa-bdfe-5f5d7552dd9a",
   "metadata": {},
   "outputs": [
    {
     "name": "stdout",
     "output_type": "stream",
     "text": [
      "MODEL_DISPLAYNAME: mid_model_20230805_164422\n"
     ]
    }
   ],
   "source": [
    "PROJECT = !gcloud config get-value project\n",
    "PROJECT = PROJECT[0]\n",
    "BUCKET = PROJECT\n",
    "REGION = \"europe-west1\"\n",
    "MODEL_DISPLAYNAME = \"mid_model_20230805_164422\"\n",
    "\n",
    "print(f\"MODEL_DISPLAYNAME: {MODEL_DISPLAYNAME}\")\n",
    "\n",
    "# from https://cloud.google.com/vertex-ai/docs/predictions/pre-built-containers\n",
    "SERVING_CONTAINER_IMAGE_URI = (\n",
    "    \"us-docker.pkg.dev/vertex-ai/prediction/tf2-cpu.2-3:latest\"\n",
    ")\n",
    "\n",
    "os.environ[\"BUCKET\"] = BUCKET\n",
    "os.environ[\"REGION\"] = REGION"
   ]
  },
  {
   "cell_type": "code",
   "execution_count": 3,
   "id": "ebeceb51-d858-4d25-ae63-dac0df1dbc2c",
   "metadata": {},
   "outputs": [
    {
     "name": "stdout",
     "output_type": "stream",
     "text": [
      "Creating Model\n",
      "Create Model backing LRO: projects/343566520815/locations/us-central1/models/8615942440043413504/operations/8254931747116941312\n",
      "Model created. Resource name: projects/343566520815/locations/us-central1/models/8615942440043413504@1\n",
      "To use this Model in another session:\n",
      "model = aiplatform.Model('projects/343566520815/locations/us-central1/models/8615942440043413504@1')\n"
     ]
    }
   ],
   "source": [
    "uploaded_model = aiplatform.Model.upload(\n",
    "    display_name=MODEL_DISPLAYNAME,\n",
    "    artifact_uri=f\"gs://{BUCKET}/fpl/trained-models/{MODEL_DISPLAYNAME}/savedmodel\",\n",
    "    serving_container_image_uri=SERVING_CONTAINER_IMAGE_URI,\n",
    ")"
   ]
  },
  {
   "cell_type": "code",
   "execution_count": 4,
   "id": "7851aaa3-620e-4d81-9705-2fd5203b82b6",
   "metadata": {},
   "outputs": [
    {
     "name": "stdout",
     "output_type": "stream",
     "text": [
      "Creating Endpoint\n",
      "Create Endpoint backing LRO: projects/343566520815/locations/us-central1/endpoints/8310262814358896640/operations/3255936160735690752\n",
      "Endpoint created. Resource name: projects/343566520815/locations/us-central1/endpoints/8310262814358896640\n",
      "To use this Endpoint in another session:\n",
      "endpoint = aiplatform.Endpoint('projects/343566520815/locations/us-central1/endpoints/8310262814358896640')\n",
      "Deploying model to Endpoint : projects/343566520815/locations/us-central1/endpoints/8310262814358896640\n",
      "Deploy Endpoint model backing LRO: projects/343566520815/locations/us-central1/endpoints/8310262814358896640/operations/4093605691426603008\n",
      "Endpoint model deployed. Resource name: projects/343566520815/locations/us-central1/endpoints/8310262814358896640\n"
     ]
    }
   ],
   "source": [
    "MACHINE_TYPE = \"e2-standard-2\"\n",
    "\n",
    "endpoint = uploaded_model.deploy(\n",
    "    machine_type=MACHINE_TYPE,\n",
    "    accelerator_type=None,\n",
    "    accelerator_count=None,\n",
    ")"
   ]
  },
  {
   "cell_type": "code",
   "execution_count": 8,
   "id": "3c0bab33-baf3-47f1-9513-b3130f68e754",
   "metadata": {},
   "outputs": [],
   "source": [
    "instance = [\n",
    "    {\n",
    "        \"minutes\": [90],\n",
    "        \"goals_scored\": [2],\n",
    "        \"assists\": [1],\n",
    "        \"clean_sheets\": [1],\n",
    "        \"penalties_missed\": [0],\n",
    "        \"bps\": [25],\n",
    "        \"yellow_threshold\": [0],\n",
    "        \"red_cards\": [0],\n",
    "        \"own_goals\": [0],\n",
    "        \"influence\": [12.5],\n",
    "        \"creativity\": [8.7],\n",
    "        \"threat\": [20.1],\n",
    "        \"start_cost\": [8.0],\n",
    "        \"end_cost\": [8.5],\n",
    "    }\n",
    "]"
   ]
  },
  {
   "cell_type": "code",
   "execution_count": 9,
   "id": "3f8c0c9b-5ac4-4fe9-9f28-cdb9e9bf816b",
   "metadata": {},
   "outputs": [
    {
     "data": {
      "text/plain": [
       "Prediction(predictions=[[8.836689]], deployed_model_id='6236907140791926784', model_version_id='1', model_resource_name='projects/343566520815/locations/us-central1/models/8615942440043413504', explanations=None)"
      ]
     },
     "execution_count": 9,
     "metadata": {},
     "output_type": "execute_result"
    }
   ],
   "source": [
    "endpoint.predict(instance)"
   ]
  },
  {
   "cell_type": "markdown",
   "id": "916d27a7-36e2-4381-a4f4-eb381d3e6c63",
   "metadata": {},
   "source": [
    "# Cleanup\n",
    "\n",
    "Delete endpoint to avoid extra charges."
   ]
  },
  {
   "cell_type": "code",
   "execution_count": 10,
   "id": "822e67c4-4dbf-4cd6-b7ca-b6a994561def",
   "metadata": {},
   "outputs": [
    {
     "name": "stdout",
     "output_type": "stream",
     "text": [
      "Undeploying Endpoint model: projects/343566520815/locations/us-central1/endpoints/8310262814358896640\n",
      "Undeploy Endpoint model backing LRO: projects/343566520815/locations/us-central1/endpoints/8310262814358896640/operations/666788587462721536\n",
      "Endpoint model undeployed. Resource name: projects/343566520815/locations/us-central1/endpoints/8310262814358896640\n"
     ]
    },
    {
     "data": {
      "text/plain": [
       "<google.cloud.aiplatform.models.Endpoint object at 0x7fdb96c79490> \n",
       "resource name: projects/343566520815/locations/us-central1/endpoints/8310262814358896640"
      ]
     },
     "execution_count": 10,
     "metadata": {},
     "output_type": "execute_result"
    }
   ],
   "source": [
    "endpoint.undeploy_all()"
   ]
  },
  {
   "cell_type": "code",
   "execution_count": 11,
   "id": "29eec374-34d5-4c9b-b305-f7267e729b63",
   "metadata": {},
   "outputs": [
    {
     "name": "stdout",
     "output_type": "stream",
     "text": [
      "Deleting Endpoint : projects/343566520815/locations/us-central1/endpoints/8310262814358896640\n",
      "Delete Endpoint  backing LRO: projects/343566520815/locations/us-central1/operations/7278072840442609664\n",
      "Endpoint deleted. . Resource name: projects/343566520815/locations/us-central1/endpoints/8310262814358896640\n"
     ]
    }
   ],
   "source": [
    "endpoint.delete()"
   ]
  },
  {
   "cell_type": "code",
   "execution_count": null,
   "id": "152dd163-f332-41ff-92f1-ada2bed9e41c",
   "metadata": {},
   "outputs": [],
   "source": []
  }
 ],
 "metadata": {
  "kernelspec": {
   "display_name": "TensorFlow 2 (Local)",
   "language": "python",
   "name": "local-tf2"
  },
  "language_info": {
   "codemirror_mode": {
    "name": "ipython",
    "version": 3
   },
   "file_extension": ".py",
   "mimetype": "text/x-python",
   "name": "python",
   "nbconvert_exporter": "python",
   "pygments_lexer": "ipython3",
   "version": "3.7.12"
  }
 },
 "nbformat": 4,
 "nbformat_minor": 5
}
